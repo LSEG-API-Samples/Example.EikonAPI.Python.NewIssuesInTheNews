{
 "cells": [
  {
   "cell_type": "markdown",
   "metadata": {
    "deletable": true,
    "editable": true
   },
   "source": [
    "# New issues in the news"
   ]
  },
  {
   "cell_type": "markdown",
   "metadata": {},
   "source": [
    "The goal of this tutorial is to demonstrate the Eikon API with the focus on the news retrieval in a Jupyter Notebook environment. So, for that purpose we are going to look at new issue news from International Financial Review (IFR), a global capital markets intelligence provider, that is a part of Refinitivs.\n",
    "\n",
    "We will capture the `PRICED` or `DEAL` notifications that contain structured text that we will extract.\n",
    "\n",
    "Before we start, let's make sure that:\n",
    "\n",
    "+ Refinitiv Eikon desktop application is up and running;\n",
    "+ Eikon Data API library is installed;\n",
    "+ You have created an application ID for this script.\n",
    "\n",
    "If you have not yet done this, have a look at the quick start section for this API. "
   ]
  },
  {
   "cell_type": "markdown",
   "metadata": {
    "deletable": true,
    "editable": true
   },
   "source": [
    "*A general note on the Jupyter Notebook usage*: in order to execute the code in the cell, press <kbd>Shift</kbd>+<kbd>Enter</kbd>. While notebook is busy running your code, the cell will look like this: `In [*]`. When its finished, you will see it change to the sequence number of the task and the output, if any. For example,\n",
    "\n",
    "`In [8]: df['Asset Type'].value_counts()`\n",
    "\n",
    "`Out[8]: Investment Grade    47\n",
    "High Yield          24\n",
    "Islamic             10\n",
    "Covered              2\n",
    "Name: Asset Type, dtype: int64`\n",
    "\n",
    "For more info on the Jupyter Notebook, check out Project Jupyter site http://jupyter.org or 'How to set up a Python development environment for Thomson Reuters Eikon' tutorial on this portal."
   ]
  },
  {
   "cell_type": "markdown",
   "metadata": {},
   "source": [
    "Let's start with referencing Eikon API library and pandas:"
   ]
  },
  {
   "cell_type": "code",
   "execution_count": 1,
   "metadata": {
    "collapsed": true,
    "deletable": true,
    "editable": true
   },
   "outputs": [],
   "source": [
    "import eikon as ek\n",
    "import pandas as pd"
   ]
  },
  {
   "cell_type": "markdown",
   "metadata": {},
   "source": [
    "Paste your application ID in to this line:"
   ]
  },
  {
   "cell_type": "code",
   "execution_count": 2,
   "metadata": {
    "collapsed": true,
    "deletable": true,
    "editable": true
   },
   "outputs": [],
   "source": [
    "ek.set_app_key('your_app_id')"
   ]
  },
  {
   "cell_type": "markdown",
   "metadata": {
    "deletable": true,
    "editable": true
   },
   "source": [
    "We are going to request emerging market new issue (**ISU**) eurobond (**EUB**) news from International Financial Review Emerging EMEA service (**IFREM**), focusing on the notifications of the already priced issues. You can replicate this request in the **News Monitor** app with the following query:\n",
    "\n",
    "+ `Product:IFREM AND Topic:ISU AND Topic:EUB AND (\"PRICED\" OR \"DEAL\")`"
   ]
  },
  {
   "cell_type": "code",
   "execution_count": 3,
   "metadata": {
    "collapsed": false,
    "deletable": true,
    "editable": true
   },
   "outputs": [
    {
     "data": {
      "text/html": [
       "<div>\n",
       "<table border=\"1\" class=\"dataframe\">\n",
       "  <thead>\n",
       "    <tr style=\"text-align: right;\">\n",
       "      <th></th>\n",
       "      <th>versionCreated</th>\n",
       "      <th>text</th>\n",
       "      <th>storyId</th>\n",
       "      <th>sourceCode</th>\n",
       "    </tr>\n",
       "  </thead>\n",
       "  <tbody>\n",
       "    <tr>\n",
       "      <th>2017-04-13 07:11:15</th>\n",
       "      <td>2017-04-13 07:11:49.650</td>\n",
       "      <td>PRICED: 4finance USD325m 5NC2 at 10.75%; Leads</td>\n",
       "      <td>urn:newsml:refinitiv.com:20170413:nIFR184tb5:1</td>\n",
       "      <td>NS:IFR</td>\n",
       "    </tr>\n",
       "    <tr>\n",
       "      <th>2017-04-12 19:58:46</th>\n",
       "      <td>2017-04-12 20:50:14.731</td>\n",
       "      <td>PRICED: Saudi Arabia US$9bn 2-tranche deal</td>\n",
       "      <td>urn:newsml:refinitiv.com:20170412:nIFR36WjXM:1</td>\n",
       "      <td>NS:IFR</td>\n",
       "    </tr>\n",
       "    <tr>\n",
       "      <th>2017-04-12 19:58:09</th>\n",
       "      <td>2017-04-12 20:49:38.608</td>\n",
       "      <td>PRICED: Saudi Arabia US$9bn 2-tranche deal</td>\n",
       "      <td>urn:newsml:refinitiv.com:20170412:nIFR1BKY60:1</td>\n",
       "      <td>NS:IFR</td>\n",
       "    </tr>\n",
       "    <tr>\n",
       "      <th>2017-04-11 15:03:51</th>\n",
       "      <td>2017-04-11 15:04:33.786</td>\n",
       "      <td>PRICED: X5 RUB20bn 3yr at 9.25%; Leads</td>\n",
       "      <td>urn:newsml:refinitiv.com:20170411:nIFR3Wb3bN:1</td>\n",
       "      <td>NS:IFR</td>\n",
       "    </tr>\n",
       "    <tr>\n",
       "      <th>2017-04-10 20:43:18</th>\n",
       "      <td>2017-04-10 20:48:04.320</td>\n",
       "      <td>PRICED: Romania E1.75bn 2-tranche deal</td>\n",
       "      <td>urn:newsml:refinitiv.com:20170410:nIFRS9KcK:1</td>\n",
       "      <td>NS:IFR</td>\n",
       "    </tr>\n",
       "  </tbody>\n",
       "</table>\n",
       "</div>"
      ],
      "text/plain": [
       "                             versionCreated  \\\n",
       "2017-04-13 07:11:15 2017-04-13 07:11:49.650   \n",
       "2017-04-12 19:58:46 2017-04-12 20:50:14.731   \n",
       "2017-04-12 19:58:09 2017-04-12 20:49:38.608   \n",
       "2017-04-11 15:03:51 2017-04-11 15:04:33.786   \n",
       "2017-04-10 20:43:18 2017-04-10 20:48:04.320   \n",
       "\n",
       "                                                               text  \\\n",
       "2017-04-13 07:11:15  PRICED: 4finance USD325m 5NC2 at 10.75%; Leads   \n",
       "2017-04-12 19:58:46      PRICED: Saudi Arabia US$9bn 2-tranche deal   \n",
       "2017-04-12 19:58:09      PRICED: Saudi Arabia US$9bn 2-tranche deal   \n",
       "2017-04-11 15:03:51          PRICED: X5 RUB20bn 3yr at 9.25%; Leads   \n",
       "2017-04-10 20:43:18          PRICED: Romania E1.75bn 2-tranche deal   \n",
       "\n",
       "                                                          storyId sourceCode  \n",
       "2017-04-13 07:11:15  urn:newsml:refinitiv.com:20170413:nIFR184tb5:1     NS:IFR  \n",
       "2017-04-12 19:58:46  urn:newsml:refinitiv.com:20170412:nIFR36WjXM:1     NS:IFR  \n",
       "2017-04-12 19:58:09  urn:newsml:refinitiv.com:20170412:nIFR1BKY60:1     NS:IFR  \n",
       "2017-04-11 15:03:51  urn:newsml:refinitiv.com:20170411:nIFR3Wb3bN:1     NS:IFR  \n",
       "2017-04-10 20:43:18   urn:newsml:refinitiv.com:20170410:nIFRS9KcK:1     NS:IFR  "
      ]
     },
     "execution_count": 3,
     "metadata": {},
     "output_type": "execute_result"
    }
   ],
   "source": [
    "from datetime import date\n",
    "\n",
    "start_date, end_date = date(2016, 1, 1), date.today()\n",
    "q = \"Product:IFREM AND Topic:ISU AND Topic:EUB AND (\\\"PRICED\\\" OR \\\"DEAL\\\")\"\n",
    "headlines = ek.get_news_headlines(query=q, date_from=start_date, date_to=end_date, count=100)\n",
    "headlines.head()"
   ]
  },
  {
   "cell_type": "markdown",
   "metadata": {
    "deletable": true,
    "editable": true
   },
   "source": [
    "In the context of news, each story has its own unique idenifier, created according to the RFC 3085 standard. Here's what the story looks like, notice that I am using the standard HTML() function from Notebook to display it:"
   ]
  },
  {
   "cell_type": "code",
   "execution_count": 4,
   "metadata": {
    "collapsed": false,
    "deletable": true,
    "editable": true
   },
   "outputs": [
    {
     "data": {
      "text/html": [
       "<div class=\"storyContent\"><pre>[Status]: PRICED                       [Asset Type]: High Yield\r\n",
       "[Pricing Date]: 05-Apr-17              [Issuer/Borrower Type]: Corporate\r\n",
       "[Issuer]: Petra Diamonds               [Bookrunners]: Barc/RBC/BMO\r\n",
       "[Issuer Long Name]: PETRA DIAMONDS US  [Coupon]: 7.250 Fixed\r\n",
       "TREASURY PLC                           [Price]: 99.9930\r\n",
       "[Size]: USD 650M                       [Reoffer Price]: 99.9930\r\n",
       "[Ratings]: B2/B+                       [Yield]: 7.25\r\n",
       "[Tenor/Mty]: 5yr 01-May-22             [Spread]: T+540.1bp\r\n",
       "[Issue Type]: Sr Sec Notes             [Price Guidance]: 7.5% area\r\n",
       "[<a href=\"reuters://REALTIME/verb=Headlines/ric=CUSIP/ISIN\" data-type=\"newsExpression\" data-expression=\"CUSIP/ISIN\">CUSIP/ISIN</a>]: USG7028AAB91 /           [Listed]: Irish\r\n",
       "US71642QAB32                           [Denoms]: 200k/1k\r\n",
       "[Sector]: Materials-Mining             [<a href=\"reuters://REALTIME/verb=Headlines/ric=UOP\" data-type=\"newsExpression\" data-expression=\"UOP\">UOP</a>]: Mixed\r\n",
       "[Law]: NY                              [Fees]: Undisclosed\r\n",
       "[Country]: UNITED STATES               [Format]: 144A/RegS for life\r\n",
       "[Region]: US\r\n",
       "[Settledate]: 12-Apr-17\r\n",
       "[<a href=\"reuters://REALTIME/verb=Headlines/ric=NOTES\" data-type=\"newsExpression\" data-expression=\"NOTES\">NOTES</a>]: USD600m 5NC2 snr sec second lien. RegS/144a. B2/B+. GloCos\r\n",
       "Barc(B&amp;D)/RBC. JBs BMO. IPTs 7.5% area, guidance 7.375% area (+/-0.125%).</pre></div>"
      ],
      "text/plain": [
       "<IPython.core.display.HTML object>"
      ]
     },
     "execution_count": 4,
     "metadata": {},
     "output_type": "execute_result"
    }
   ],
   "source": [
    "from IPython.core.display import HTML\n",
    "html = ek.get_news_story('urn:newsml:reuters.com:20170405:nIFR5LpzRX:1')\n",
    "HTML(html)"
   ]
  },
  {
   "cell_type": "markdown",
   "metadata": {
    "deletable": true,
    "editable": true
   },
   "source": [
    "Now we can parse the data using a regular expression but before this we will need to convert HTML into text. Let's create a function that is going to return a dictionary from the this type of article. I will be using `lxml` library to convert HTML and `re` to parse its output."
   ]
  },
  {
   "cell_type": "code",
   "execution_count": 5,
   "metadata": {
    "collapsed": false,
    "deletable": true,
    "editable": true
   },
   "outputs": [],
   "source": [
    "from lxml import html\n",
    "import re\n",
    "\n",
    "def termsheet_to_dict(storyId):\n",
    "    x = ek.get_news_story(storyId)\n",
    "    story = html.document_fromstring(x).text_content()\n",
    "    matches = dict(re.findall(pattern=r\"\\[(.*?)\\]:\\s?([A-Z,a-z,0-9,\\-,\\(,\\),\\+,/,\\n,\\r,\\.,%,\\&,>, ]+)\", string=story))\n",
    "    clean_matches = {key.strip(): item.strip() for key, item in matches.items()}\n",
    "    return clean_matches"
   ]
  },
  {
   "cell_type": "markdown",
   "metadata": {
    "deletable": true,
    "editable": true
   },
   "source": [
    "Let's test it and see if it works:"
   ]
  },
  {
   "cell_type": "code",
   "execution_count": 6,
   "metadata": {
    "collapsed": false,
    "deletable": true,
    "editable": true
   },
   "outputs": [
    {
     "data": {
      "text/plain": [
       "'EUR400m (from 300m+) 3yr LPN. RegS. Follows rshow. Exp nr/B+/BB.\\r\\nAlfa/ING/UBS(B&D). IPTs 2.75% area, guidance 2.625%/2.75% WPIR, set at 2.625% on\\r\\nbks closed >750m.'"
      ]
     },
     "execution_count": 6,
     "metadata": {},
     "output_type": "execute_result"
    }
   ],
   "source": [
    "termsheet_to_dict('urn:newsml:reuters.com:20170323:nIFR9z7ZFL:1')['NOTES']"
   ]
  },
  {
   "cell_type": "markdown",
   "metadata": {
    "deletable": true,
    "editable": true
   },
   "source": [
    "Let's extract all data for all headlines:"
   ]
  },
  {
   "cell_type": "code",
   "execution_count": 7,
   "metadata": {
    "collapsed": false,
    "deletable": true,
    "editable": true,
    "scrolled": true
   },
   "outputs": [
    {
     "data": {
      "text/html": [
       "<div>\n",
       "<table border=\"1\" class=\"dataframe\">\n",
       "  <thead>\n",
       "    <tr style=\"text-align: right;\">\n",
       "      <th></th>\n",
       "      <th>1st Pay</th>\n",
       "      <th>Asset Type</th>\n",
       "      <th>Bookrunners</th>\n",
       "      <th>Business</th>\n",
       "      <th>CUSIP/ISIN</th>\n",
       "      <th>Call</th>\n",
       "      <th>Country</th>\n",
       "      <th>Coupon</th>\n",
       "      <th>DBRS</th>\n",
       "      <th>Denoms</th>\n",
       "      <th>...</th>\n",
       "      <th>Sector</th>\n",
       "      <th>Settledate</th>\n",
       "      <th>Size</th>\n",
       "      <th>Spread</th>\n",
       "      <th>Stabilis</th>\n",
       "      <th>Status</th>\n",
       "      <th>Tenor/Mty</th>\n",
       "      <th>Total</th>\n",
       "      <th>UOP</th>\n",
       "      <th>Yield</th>\n",
       "    </tr>\n",
       "  </thead>\n",
       "  <tbody>\n",
       "    <tr>\n",
       "      <th>0</th>\n",
       "      <td>NaN</td>\n",
       "      <td>High Yield</td>\n",
       "      <td>Stifel</td>\n",
       "      <td>NaN</td>\n",
       "      <td>XS1597294781 /</td>\n",
       "      <td>01-May-19</td>\n",
       "      <td>LATVIA</td>\n",
       "      <td>10.750 Fixed</td>\n",
       "      <td>NaN</td>\n",
       "      <td>200k/1k</td>\n",
       "      <td>...</td>\n",
       "      <td>Financials-Diversified</td>\n",
       "      <td>28-Apr-17</td>\n",
       "      <td>USD 325M</td>\n",
       "      <td>T+894</td>\n",
       "      <td>NaN</td>\n",
       "      <td>PRICED</td>\n",
       "      <td>5yr 01-May-22</td>\n",
       "      <td>NaN</td>\n",
       "      <td>NaN</td>\n",
       "      <td>10.75</td>\n",
       "    </tr>\n",
       "    <tr>\n",
       "      <th>1</th>\n",
       "      <td>NaN</td>\n",
       "      <td>Islamic</td>\n",
       "      <td></td>\n",
       "      <td>NaN</td>\n",
       "      <td>NaN</td>\n",
       "      <td>NaN</td>\n",
       "      <td>SAUDI ARABIA</td>\n",
       "      <td>3.628 Fixed</td>\n",
       "      <td>NaN</td>\n",
       "      <td>200k/1k</td>\n",
       "      <td>...</td>\n",
       "      <td>NaN</td>\n",
       "      <td>20-Apr-17</td>\n",
       "      <td>USD 4.5BN</td>\n",
       "      <td>MS+140</td>\n",
       "      <td>NaN</td>\n",
       "      <td>PRICED</td>\n",
       "      <td>10yr 20-Apr-27</td>\n",
       "      <td>NaN</td>\n",
       "      <td>NaN</td>\n",
       "      <td>3.628\\r\\nSukuk</td>\n",
       "    </tr>\n",
       "    <tr>\n",
       "      <th>2</th>\n",
       "      <td>NaN</td>\n",
       "      <td>Islamic</td>\n",
       "      <td></td>\n",
       "      <td>NaN</td>\n",
       "      <td>NaN</td>\n",
       "      <td>NaN</td>\n",
       "      <td>SAUDI ARABIA</td>\n",
       "      <td>2.894 Fixed</td>\n",
       "      <td>NaN</td>\n",
       "      <td>200k/1k</td>\n",
       "      <td>...</td>\n",
       "      <td>NaN</td>\n",
       "      <td>20-Apr-17</td>\n",
       "      <td>USD 4.5BN</td>\n",
       "      <td>MS+100</td>\n",
       "      <td>NaN</td>\n",
       "      <td>PRICED</td>\n",
       "      <td>5yr 20-Apr-22</td>\n",
       "      <td>NaN</td>\n",
       "      <td>NaN</td>\n",
       "      <td>2.894\\r\\nSukuk</td>\n",
       "    </tr>\n",
       "    <tr>\n",
       "      <th>3</th>\n",
       "      <td>NaN</td>\n",
       "      <td>High Yield</td>\n",
       "      <td>GS/UBS/VTB</td>\n",
       "      <td>NaN</td>\n",
       "      <td>XS1598697412             Trade House PEREKRIOS...</td>\n",
       "      <td>NaN</td>\n",
       "      <td>RUSSIA</td>\n",
       "      <td>9.250 Fixed</td>\n",
       "      <td>NaN</td>\n",
       "      <td>10m/100k</td>\n",
       "      <td>...</td>\n",
       "      <td>Cons Staples-Retailing       Limited Liability...</td>\n",
       "      <td>18-Apr-17</td>\n",
       "      <td>RUB 20BN</td>\n",
       "      <td>NaN</td>\n",
       "      <td>NaN</td>\n",
       "      <td>PRICED</td>\n",
       "      <td>3yr 18-Apr-20</td>\n",
       "      <td>NaN</td>\n",
       "      <td>NaN</td>\n",
       "      <td>9.25</td>\n",
       "    </tr>\n",
       "    <tr>\n",
       "      <th>4</th>\n",
       "      <td>NaN</td>\n",
       "      <td>Investment Grade</td>\n",
       "      <td>Barc/Citi/Erste/ING/SG</td>\n",
       "      <td>NaN</td>\n",
       "      <td>XS1313004928 /</td>\n",
       "      <td>NaN</td>\n",
       "      <td>ROMANIA</td>\n",
       "      <td>3.875</td>\n",
       "      <td>NaN</td>\n",
       "      <td>1k+1k</td>\n",
       "      <td>...</td>\n",
       "      <td>NaN</td>\n",
       "      <td>19-Apr-17</td>\n",
       "      <td>EUR 750M</td>\n",
       "      <td>NaN</td>\n",
       "      <td>NaN</td>\n",
       "      <td>PRICED</td>\n",
       "      <td>18.5yr 29-Oct-35</td>\n",
       "      <td>2BN</td>\n",
       "      <td>NaN</td>\n",
       "      <td>3.55\\r\\nSr Unsec Notes</td>\n",
       "    </tr>\n",
       "  </tbody>\n",
       "</table>\n",
       "<p>5 rows × 42 columns</p>\n",
       "</div>"
      ],
      "text/plain": [
       "  1st Pay        Asset Type             Bookrunners Business  \\\n",
       "0     NaN        High Yield                  Stifel      NaN   \n",
       "1     NaN           Islamic                              NaN   \n",
       "2     NaN           Islamic                              NaN   \n",
       "3     NaN        High Yield              GS/UBS/VTB      NaN   \n",
       "4     NaN  Investment Grade  Barc/Citi/Erste/ING/SG      NaN   \n",
       "\n",
       "                                          CUSIP/ISIN       Call       Country  \\\n",
       "0                                     XS1597294781 /  01-May-19        LATVIA   \n",
       "1                                                NaN        NaN  SAUDI ARABIA   \n",
       "2                                                NaN        NaN  SAUDI ARABIA   \n",
       "3  XS1598697412             Trade House PEREKRIOS...        NaN        RUSSIA   \n",
       "4                                     XS1313004928 /        NaN       ROMANIA   \n",
       "\n",
       "         Coupon DBRS    Denoms           ...            \\\n",
       "0  10.750 Fixed  NaN   200k/1k           ...             \n",
       "1   3.628 Fixed  NaN   200k/1k           ...             \n",
       "2   2.894 Fixed  NaN   200k/1k           ...             \n",
       "3   9.250 Fixed  NaN  10m/100k           ...             \n",
       "4         3.875  NaN     1k+1k           ...             \n",
       "\n",
       "                                              Sector Settledate       Size  \\\n",
       "0                             Financials-Diversified  28-Apr-17   USD 325M   \n",
       "1                                                NaN  20-Apr-17  USD 4.5BN   \n",
       "2                                                NaN  20-Apr-17  USD 4.5BN   \n",
       "3  Cons Staples-Retailing       Limited Liability...  18-Apr-17   RUB 20BN   \n",
       "4                                                NaN  19-Apr-17   EUR 750M   \n",
       "\n",
       "   Spread Stabilis  Status         Tenor/Mty Total  UOP  \\\n",
       "0   T+894      NaN  PRICED     5yr 01-May-22   NaN  NaN   \n",
       "1  MS+140      NaN  PRICED    10yr 20-Apr-27   NaN  NaN   \n",
       "2  MS+100      NaN  PRICED     5yr 20-Apr-22   NaN  NaN   \n",
       "3     NaN      NaN  PRICED     3yr 18-Apr-20   NaN  NaN   \n",
       "4     NaN      NaN  PRICED  18.5yr 29-Oct-35   2BN  NaN   \n",
       "\n",
       "                    Yield  \n",
       "0                   10.75  \n",
       "1          3.628\\r\\nSukuk  \n",
       "2          2.894\\r\\nSukuk  \n",
       "3                    9.25  \n",
       "4  3.55\\r\\nSr Unsec Notes  \n",
       "\n",
       "[5 rows x 42 columns]"
      ]
     },
     "execution_count": 7,
     "metadata": {},
     "output_type": "execute_result"
    }
   ],
   "source": [
    "from time import sleep\n",
    "\n",
    "result = []\n",
    "\n",
    "index = pd.DataFrame(headlines, columns=['storyId']).values.tolist()\n",
    "\n",
    "for i, storyId in enumerate(index):\n",
    "    x = termsheet_to_dict(storyId[0])\n",
    "    if x:\n",
    "        result.append(x)\n",
    "   sleep(0.5)\n",
    "\n",
    "df = pd.DataFrame(result)\n",
    "df.head()"
   ]
  },
  {
   "cell_type": "markdown",
   "metadata": {
    "deletable": true,
    "editable": true
   },
   "source": [
    "Now, when we have the dataframe in place, we can perform simple stats on our data. For instance, how many of those issues reported were Investment Grade versus High Yield."
   ]
  },
  {
   "cell_type": "code",
   "execution_count": 8,
   "metadata": {
    "collapsed": false,
    "deletable": true,
    "editable": true
   },
   "outputs": [
    {
     "data": {
      "text/plain": [
       "Investment Grade    47\n",
       "High Yield          24\n",
       "Islamic             10\n",
       "Covered              2\n",
       "Name: Asset Type, dtype: int64"
      ]
     },
     "execution_count": 8,
     "metadata": {},
     "output_type": "execute_result"
    }
   ],
   "source": [
    "df['Asset Type'].value_counts()"
   ]
  },
  {
   "cell_type": "markdown",
   "metadata": {
    "deletable": true,
    "editable": true
   },
   "source": [
    "What about a specific country?"
   ]
  },
  {
   "cell_type": "code",
   "execution_count": 9,
   "metadata": {
    "collapsed": false,
    "deletable": true,
    "editable": true
   },
   "outputs": [
    {
     "data": {
      "text/plain": [
       "Investment Grade    6\n",
       "High Yield          6\n",
       "Name: Asset Type, dtype: int64"
      ]
     },
     "execution_count": 9,
     "metadata": {},
     "output_type": "execute_result"
    }
   ],
   "source": [
    "df[df['Country']=='RUSSIA']['Asset Type'].value_counts()"
   ]
  },
  {
   "cell_type": "markdown",
   "metadata": {
    "deletable": true,
    "editable": true
   },
   "source": [
    "You can experiment further by changing the original headline search query, for example, by including the RIC into your request."
   ]
  }
 ],
 "metadata": {
  "kernelspec": {
   "display_name": "Python 3",
   "language": "python",
   "name": "python3"
  },
  "language_info": {
   "codemirror_mode": {
    "name": "ipython",
    "version": 3
   },
   "file_extension": ".py",
   "mimetype": "text/x-python",
   "name": "python",
   "nbconvert_exporter": "python",
   "pygments_lexer": "ipython3",
   "version": "3.6.1"
  }
 },
 "nbformat": 4,
 "nbformat_minor": 2
}

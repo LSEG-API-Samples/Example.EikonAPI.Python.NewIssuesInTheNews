{
 "cells": [
  {
   "cell_type": "markdown",
   "metadata": {
    "deletable": true,
    "editable": true
   },
   "source": [
    "# New issues in the news"
   ]
  },
  {
   "cell_type": "markdown",
   "metadata": {},
   "source": [
    "The goal of this tutorial is to demonstrate the LSEG Data Library for Python with the focus on the news retrieval in a Jupyter Notebook environment. So, for that purpose we are going to look at new issue news from International Financial Review (IFR), a global capital markets intelligence provider, that is a part of LSEG.\n",
    "\n",
    "We will capture the `PRICED` or `DEAL` notifications that contain structured text that we will extract.\n",
    "\n",
    "Before we start, let's make sure that:\n",
    "\n",
    "+ LSEG Workspace desktop application is up and running;\n",
    "+ LSEG Data Library for Python is installed;\n",
    "+ You have created an application ID for this script.\n",
    "\n",
    "If you have not yet done this, have a look at the quick start section for this API. "
   ]
  },
  {
   "cell_type": "markdown",
   "metadata": {
    "deletable": true,
    "editable": true
   },
   "source": [
    "*A general note on the Jupyter Notebook usage*: in order to execute the code in the cell, press <kbd>Shift</kbd>+<kbd>Enter</kbd>. While notebook is busy running your code, the cell will look like this: `In [*]`. When its finished, you will see it change to the sequence number of the task and the output, if any.\n",
    "\n",
    "For more info on the Jupyter Notebook, check out Project Jupyter site http://jupyter.org or 'How to set up a Python development environment for LSEG Workspace' tutorial on this portal."
   ]
  },
  {
   "cell_type": "markdown",
   "metadata": {},
   "source": [
    "Let's start with referencing LSEG Data Library for Python and pandas:"
   ]
  },
  {
   "cell_type": "code",
   "execution_count": 1,
   "metadata": {
    "deletable": true,
    "editable": true
   },
   "outputs": [],
   "source": [
    "import lseg.data as ld\n",
    "import pandas as pd\n",
    "import os\n",
    "\n",
    "app_key = os.getenv(\"APP_KEY\")\n"
   ]
  },
  {
   "cell_type": "markdown",
   "metadata": {},
   "source": [
    "Paste your application ID in to this line:"
   ]
  },
  {
   "cell_type": "code",
   "execution_count": 2,
   "metadata": {
    "deletable": true,
    "editable": true
   },
   "outputs": [
    {
     "data": {
      "text/plain": [
       "<lseg.data.session.Definition object at 0x21727d4c140 {name='workspace'}>"
      ]
     },
     "execution_count": 2,
     "metadata": {},
     "output_type": "execute_result"
    }
   ],
   "source": [
    "ld.open_session(app_key=app_key)"
   ]
  },
  {
   "cell_type": "markdown",
   "metadata": {
    "deletable": true,
    "editable": true
   },
   "source": [
    "We are going to request emerging market new issue (**ISU**) eurobond (**EUB**) news from International Financial Review Emerging EMEA service (**IFREM**), focusing on the notifications of the already priced issues. You can replicate this request in the **News Monitor** app with the following query:\n",
    "\n",
    "+ `Product:IFREM AND Topic:ISU AND Topic:EUB AND (\"PRICED\" OR \"DEAL\")`"
   ]
  },
  {
   "cell_type": "code",
   "execution_count": 5,
   "metadata": {
    "collapsed": false,
    "deletable": true,
    "editable": true,
    "jupyter": {
     "outputs_hidden": false
    }
   },
   "outputs": [
    {
     "data": {
      "text/html": [
       "<div>\n",
       "<style scoped>\n",
       "    .dataframe tbody tr th:only-of-type {\n",
       "        vertical-align: middle;\n",
       "    }\n",
       "\n",
       "    .dataframe tbody tr th {\n",
       "        vertical-align: top;\n",
       "    }\n",
       "\n",
       "    .dataframe thead th {\n",
       "        text-align: right;\n",
       "    }\n",
       "</style>\n",
       "<table border=\"1\" class=\"dataframe\">\n",
       "  <thead>\n",
       "    <tr style=\"text-align: right;\">\n",
       "      <th></th>\n",
       "      <th>headline</th>\n",
       "      <th>storyId</th>\n",
       "      <th>sourceCode</th>\n",
       "    </tr>\n",
       "    <tr>\n",
       "      <th>versionCreated</th>\n",
       "      <th></th>\n",
       "      <th></th>\n",
       "      <th></th>\n",
       "    </tr>\n",
       "  </thead>\n",
       "  <tbody>\n",
       "    <tr>\n",
       "      <th>2025-04-24 13:46:03.012</th>\n",
       "      <td>PRICED: LHV Group €50m PNC5 AT1</td>\n",
       "      <td>urn:newsml:reuters.com:20250424:nIfp7mMCSV:1</td>\n",
       "      <td>NS:IFR</td>\n",
       "    </tr>\n",
       "    <tr>\n",
       "      <th>2025-04-24 12:03:55.000</th>\n",
       "      <td>UPDATE PRICED: OCP $750m 5yr &amp; $1bn long 10yr</td>\n",
       "      <td>urn:newsml:reuters.com:20250424:nIfp6SWcZk:1</td>\n",
       "      <td>NS:IFR</td>\n",
       "    </tr>\n",
       "    <tr>\n",
       "      <th>2025-04-24 12:03:55.000</th>\n",
       "      <td>UPDATE PRICED: OCP $750m 5yr &amp; $1bn long 10yr</td>\n",
       "      <td>urn:newsml:reuters.com:20250424:nIfp4fJ3xZ:1</td>\n",
       "      <td>NS:IFR</td>\n",
       "    </tr>\n",
       "    <tr>\n",
       "      <th>2025-04-24 07:10:00.000</th>\n",
       "      <td>UPDATE PRICED: OCP $750m 5yr &amp; $1bn long 10yr</td>\n",
       "      <td>urn:newsml:reuters.com:20250424:nIfp401Bg9:1</td>\n",
       "      <td>NS:IFR</td>\n",
       "    </tr>\n",
       "    <tr>\n",
       "      <th>2025-04-24 07:10:00.000</th>\n",
       "      <td>UPDATE PRICED: OCP $750m 5yr &amp; $1bn long 10yr</td>\n",
       "      <td>urn:newsml:reuters.com:20250424:nIfp2kcCRd:1</td>\n",
       "      <td>NS:IFR</td>\n",
       "    </tr>\n",
       "  </tbody>\n",
       "</table>\n",
       "</div>"
      ],
      "text/plain": [
       "                                                              headline  \\\n",
       "versionCreated                                                           \n",
       "2025-04-24 13:46:03.012                PRICED: LHV Group €50m PNC5 AT1   \n",
       "2025-04-24 12:03:55.000  UPDATE PRICED: OCP $750m 5yr & $1bn long 10yr   \n",
       "2025-04-24 12:03:55.000  UPDATE PRICED: OCP $750m 5yr & $1bn long 10yr   \n",
       "2025-04-24 07:10:00.000  UPDATE PRICED: OCP $750m 5yr & $1bn long 10yr   \n",
       "2025-04-24 07:10:00.000  UPDATE PRICED: OCP $750m 5yr & $1bn long 10yr   \n",
       "\n",
       "                                                              storyId  \\\n",
       "versionCreated                                                          \n",
       "2025-04-24 13:46:03.012  urn:newsml:reuters.com:20250424:nIfp7mMCSV:1   \n",
       "2025-04-24 12:03:55.000  urn:newsml:reuters.com:20250424:nIfp6SWcZk:1   \n",
       "2025-04-24 12:03:55.000  urn:newsml:reuters.com:20250424:nIfp4fJ3xZ:1   \n",
       "2025-04-24 07:10:00.000  urn:newsml:reuters.com:20250424:nIfp401Bg9:1   \n",
       "2025-04-24 07:10:00.000  urn:newsml:reuters.com:20250424:nIfp2kcCRd:1   \n",
       "\n",
       "                        sourceCode  \n",
       "versionCreated                      \n",
       "2025-04-24 13:46:03.012     NS:IFR  \n",
       "2025-04-24 12:03:55.000     NS:IFR  \n",
       "2025-04-24 12:03:55.000     NS:IFR  \n",
       "2025-04-24 07:10:00.000     NS:IFR  \n",
       "2025-04-24 07:10:00.000     NS:IFR  "
      ]
     },
     "execution_count": 5,
     "metadata": {},
     "output_type": "execute_result"
    }
   ],
   "source": [
    "from datetime import date\n",
    "\n",
    "start_date, end_date = date(2024, 1, 1), date.today()\n",
    "q = 'Product:IFREM AND Topic:ISU AND Topic:EUB AND (\\\"PRICED:\\\" OR \\\"DEAL:\\\")'\n",
    "headlines = ld.news.get_headlines(q,start=start_date,end=end_date, count = 100)\n",
    "headlines.head()"
   ]
  },
  {
   "cell_type": "markdown",
   "metadata": {
    "deletable": true,
    "editable": true
   },
   "source": [
    "In the context of news, each story has its own unique idenifier, created according to the RFC 3085 standard. Here's what the story looks like, notice that I am using the standard HTML() function from Notebook to display it:"
   ]
  },
  {
   "cell_type": "code",
   "execution_count": 6,
   "metadata": {
    "collapsed": false,
    "deletable": true,
    "editable": true,
    "jupyter": {
     "outputs_hidden": false
    }
   },
   "outputs": [
    {
     "name": "stderr",
     "output_type": "stream",
     "text": [
      "C:\\Users\\U8009686\\AppData\\Local\\Temp\\ipykernel_28536\\2221378203.py:2:FutureWarning: Series.__getitem__ treating keys as positions is deprecated. In a future version, integer keys will always be treated as labels (consistent with DataFrame behavior). To access a value by position, use `ser.iloc[pos]`\n"
     ]
    },
    {
     "data": {
      "text/html": [
       "<div lang=\"en\"><span><p></p><div class=\"story-table-container\"><table class=\"story-basic-table\"><colgroup><col width=\"15%\"></col><col width=\"35%\"></col><col width=\"15%\"></col><col width=\"35%\"></col></colgroup><tbody><tr><td><strong>Issuer Long Name</strong>: </td><td><a href=\"/issuer/4296871683\">OCP SA</a></td><td><strong>Country</strong>: </td><td>MOROCCO</td></tr><tr><td><strong>Issuer Short Name</strong>: </td><td>OCP</td><td><strong>Country of Risk</strong>: </td><td>MOROCCO</td></tr><tr><td><strong>LEI</strong>: </td><td>213800D26TAPVTCVWG40</td><td> </td><td> </td></tr><tr><td><strong>Moodys</strong>: </td><td>Baa3</td><td><strong>S&amp;P</strong>: </td><td>BB+</td></tr><tr><td><strong>Fitch</strong>: </td><td>BB+</td><td> </td><td> </td></tr><tr><td> </td><td> </td><td><strong>Issue Type</strong>: </td><td>bmk /  snr unsec</td></tr><tr><td> </td><td> </td><td><strong>Format</strong>: </td><td>RegS/144A</td></tr><tr><td><strong>Currency Size</strong>: </td><td>USD750m</td><td><strong>Pricing Date</strong>: </td><td>2025-04-23</td></tr><tr><td><strong>Settlement Date</strong>: </td><td>2025-04-30</td><td><strong>Maturity (Tenor)</strong>: </td><td>2030-04-30 (5.00yr)</td></tr><tr><td> </td><td> </td><td><strong>Coupon/Coupon Type</strong>: </td><td> 6.1 Fixed</td></tr><tr><td> </td><td> </td><td><strong>Reoffer Price</strong>: </td><td>99.006</td></tr><tr><td><strong>Yield</strong>: </td><td>6.335</td><td><strong>Spread basis + spread</strong>: </td><td>T+235</td></tr><tr><td><strong>Listing Exchange</strong>: </td><td>Dublin</td><td><strong>Governing Law</strong>: </td><td>England</td></tr><tr><td><strong>Denoms</strong>: </td><td>200k+1k</td><td><strong>ID Type/IDs</strong>: </td><td>RegS ISIN:XS3040572979 ,144a ISIN:US67091TAH86</td></tr><tr><td> </td><td> </td><td><strong>Underwriter/Role</strong>: </td><td>Citi /GloCo/Act/Log<br/>JPM /GloCo/B&amp;D/Act<br/>BNPP /Pass Bk<br/>DB /Pass Bk<br/>Miz /Pass Bk<br/>SMBC /Pass Bk</td></tr><tr><td><strong>Notes</strong>: </td><td colspan=\"3\">Adds total books. USD April 2030 &amp; Mar 2036 snr unsec bmk RegS/144A. Baa3/BB+/BB+. Gloco/Active: Citi(log)/JPM(B&amp;D), passive: BNPP/DB/Miz/SMBC. IPTs 5yr T+265 area, L10yr T+290 area. Launch 750m 5yr at T+235, 1bn 10yr at T+260. UST 4.000% due Mar-2030 @ 100-02 / 3.985% / HR 95%, UST 4.625% due Feb-2035 @ 102-02 / 4.364% / HR 93%. Combined books 7bn.\n",
       "</td></tr></tbody></table></div><p>Story Id: <span class=\"ifr-story-id\">5257476</span></p></span></div>"
      ],
      "text/plain": [
       "<IPython.core.display.HTML object>"
      ]
     },
     "execution_count": 6,
     "metadata": {},
     "output_type": "execute_result"
    }
   ],
   "source": [
    "from IPython.core.display import HTML\n",
    "html_doc = ld.news.get_story(headlines['storyId'][1])\n",
    "HTML(html_doc)"
   ]
  },
  {
   "cell_type": "code",
   "execution_count": 7,
   "metadata": {},
   "outputs": [],
   "source": [
    "from bs4 import BeautifulSoup\n",
    "\n",
    "def termsheet_to_dict(html_doc):\n",
    "    clean_matches = {}\n",
    "    soup = BeautifulSoup(html_doc, 'html.parser')\n",
    "    for tr in soup.find_all('tr'):\n",
    "        all_td =tr.find_all('td')\n",
    "        key = all_td[0].get_text().split(':')[0]\n",
    "        value = all_td[1].get_text()\n",
    "        if key != '\\xa0':\n",
    "            clean_matches[key]=value\n",
    "        if(len(all_td)>2):\n",
    "            key = all_td[2].get_text().split(':')[0]\n",
    "            value = all_td[3].get_text()\n",
    "            if key != '\\xa0':\n",
    "                clean_matches[key]=value\n",
    "    return clean_matches"
   ]
  },
  {
   "cell_type": "markdown",
   "metadata": {
    "deletable": true,
    "editable": true
   },
   "source": [
    "Now we can parse the data using the BeautifulSoup module. Let's create a function that is going to return a dictionary from the this type of article."
   ]
  },
  {
   "cell_type": "markdown",
   "metadata": {
    "deletable": true,
    "editable": true
   },
   "source": [
    "Let's test it and see if it works:"
   ]
  },
  {
   "cell_type": "code",
   "execution_count": 8,
   "metadata": {
    "collapsed": false,
    "deletable": true,
    "editable": true,
    "jupyter": {
     "outputs_hidden": false
    }
   },
   "outputs": [
    {
     "data": {
      "text/plain": [
       "'Adds total books. USD April 2030 & Mar 2036 snr unsec bmk RegS/144A. Baa3/BB+/BB+. Gloco/Active: Citi(log)/JPM(B&D), passive: BNPP/DB/Miz/SMBC. IPTs 5yr T+265 area, L10yr T+290 area. Launch 750m 5yr at T+235, 1bn 10yr at T+260. UST 4.000% due Mar-2030 @ 100-02 / 3.985% / HR 95%, UST 4.625% due Feb-2035 @ 102-02 / 4.364% / HR 93%. Combined books 7bn.\\n'"
      ]
     },
     "execution_count": 8,
     "metadata": {},
     "output_type": "execute_result"
    }
   ],
   "source": [
    "termsheet_to_dict(html_doc)['Notes']"
   ]
  },
  {
   "cell_type": "markdown",
   "metadata": {
    "deletable": true,
    "editable": true
   },
   "source": [
    "Let's extract all data for all headlines:"
   ]
  },
  {
   "cell_type": "code",
   "execution_count": 9,
   "metadata": {
    "collapsed": false,
    "deletable": true,
    "editable": true,
    "jupyter": {
     "outputs_hidden": false
    },
    "scrolled": true
   },
   "outputs": [
    {
     "data": {
      "text/html": [
       "<div>\n",
       "<style scoped>\n",
       "    .dataframe tbody tr th:only-of-type {\n",
       "        vertical-align: middle;\n",
       "    }\n",
       "\n",
       "    .dataframe tbody tr th {\n",
       "        vertical-align: top;\n",
       "    }\n",
       "\n",
       "    .dataframe thead th {\n",
       "        text-align: right;\n",
       "    }\n",
       "</style>\n",
       "<table border=\"1\" class=\"dataframe\">\n",
       "  <thead>\n",
       "    <tr style=\"text-align: right;\">\n",
       "      <th></th>\n",
       "      <th>Issuer Long Name</th>\n",
       "      <th>Country</th>\n",
       "      <th>Issuer Short Name</th>\n",
       "      <th>Country of Risk</th>\n",
       "      <th>LEI</th>\n",
       "      <th>Moodys</th>\n",
       "      <th>Issue Type</th>\n",
       "      <th>Format</th>\n",
       "      <th>Currency Size</th>\n",
       "      <th>Pricing Date</th>\n",
       "      <th>...</th>\n",
       "      <th>Make Whole Call</th>\n",
       "      <th>Coc Call</th>\n",
       "      <th>Guarantor</th>\n",
       "      <th>PP</th>\n",
       "      <th>XD</th>\n",
       "      <th>Price</th>\n",
       "      <th>Tap Size</th>\n",
       "      <th>Equity Claw Back</th>\n",
       "      <th>Links</th>\n",
       "      <th>Fees</th>\n",
       "    </tr>\n",
       "  </thead>\n",
       "  <tbody>\n",
       "    <tr>\n",
       "      <th>0</th>\n",
       "      <td>LHV Group AS</td>\n",
       "      <td>ESTONIA</td>\n",
       "      <td>LHV Group</td>\n",
       "      <td>ESTONIA</td>\n",
       "      <td>529900JG015JC10LED24</td>\n",
       "      <td>Ba3</td>\n",
       "      <td>Tier 1</td>\n",
       "      <td>RegS</td>\n",
       "      <td>EUR50m</td>\n",
       "      <td>2025-04-24</td>\n",
       "      <td>...</td>\n",
       "      <td>NaN</td>\n",
       "      <td>NaN</td>\n",
       "      <td>NaN</td>\n",
       "      <td>NaN</td>\n",
       "      <td>NaN</td>\n",
       "      <td>NaN</td>\n",
       "      <td>NaN</td>\n",
       "      <td>NaN</td>\n",
       "      <td>NaN</td>\n",
       "      <td>NaN</td>\n",
       "    </tr>\n",
       "    <tr>\n",
       "      <th>1</th>\n",
       "      <td>OCP SA</td>\n",
       "      <td>MOROCCO</td>\n",
       "      <td>OCP</td>\n",
       "      <td>MOROCCO</td>\n",
       "      <td>213800D26TAPVTCVWG40</td>\n",
       "      <td>Baa3</td>\n",
       "      <td>bmk /  snr unsec</td>\n",
       "      <td>RegS/144A</td>\n",
       "      <td>USD750m</td>\n",
       "      <td>2025-04-23</td>\n",
       "      <td>...</td>\n",
       "      <td>NaN</td>\n",
       "      <td>NaN</td>\n",
       "      <td>NaN</td>\n",
       "      <td>NaN</td>\n",
       "      <td>NaN</td>\n",
       "      <td>NaN</td>\n",
       "      <td>NaN</td>\n",
       "      <td>NaN</td>\n",
       "      <td>NaN</td>\n",
       "      <td>NaN</td>\n",
       "    </tr>\n",
       "    <tr>\n",
       "      <th>2</th>\n",
       "      <td>OCP SA</td>\n",
       "      <td>MOROCCO</td>\n",
       "      <td>OCP</td>\n",
       "      <td>MOROCCO</td>\n",
       "      <td>213800D26TAPVTCVWG40</td>\n",
       "      <td>Baa3</td>\n",
       "      <td>bmk /  snr unsec</td>\n",
       "      <td>RegS/144A</td>\n",
       "      <td>USD1bn</td>\n",
       "      <td>2025-04-23</td>\n",
       "      <td>...</td>\n",
       "      <td>NaN</td>\n",
       "      <td>NaN</td>\n",
       "      <td>NaN</td>\n",
       "      <td>NaN</td>\n",
       "      <td>NaN</td>\n",
       "      <td>NaN</td>\n",
       "      <td>NaN</td>\n",
       "      <td>NaN</td>\n",
       "      <td>NaN</td>\n",
       "      <td>NaN</td>\n",
       "    </tr>\n",
       "    <tr>\n",
       "      <th>3</th>\n",
       "      <td>OCP SA</td>\n",
       "      <td>MOROCCO</td>\n",
       "      <td>OCP</td>\n",
       "      <td>MOROCCO</td>\n",
       "      <td>213800D26TAPVTCVWG40</td>\n",
       "      <td>Baa3</td>\n",
       "      <td>bmk /  snr unsec</td>\n",
       "      <td>RegS/144A</td>\n",
       "      <td>USD1bn</td>\n",
       "      <td>2025-04-23</td>\n",
       "      <td>...</td>\n",
       "      <td>NaN</td>\n",
       "      <td>NaN</td>\n",
       "      <td>NaN</td>\n",
       "      <td>NaN</td>\n",
       "      <td>NaN</td>\n",
       "      <td>NaN</td>\n",
       "      <td>NaN</td>\n",
       "      <td>NaN</td>\n",
       "      <td>NaN</td>\n",
       "      <td>NaN</td>\n",
       "    </tr>\n",
       "    <tr>\n",
       "      <th>4</th>\n",
       "      <td>OCP SA</td>\n",
       "      <td>MOROCCO</td>\n",
       "      <td>OCP</td>\n",
       "      <td>MOROCCO</td>\n",
       "      <td>213800D26TAPVTCVWG40</td>\n",
       "      <td>Baa3</td>\n",
       "      <td>bmk /  snr unsec</td>\n",
       "      <td>RegS/144A</td>\n",
       "      <td>USD750m</td>\n",
       "      <td>2025-04-23</td>\n",
       "      <td>...</td>\n",
       "      <td>NaN</td>\n",
       "      <td>NaN</td>\n",
       "      <td>NaN</td>\n",
       "      <td>NaN</td>\n",
       "      <td>NaN</td>\n",
       "      <td>NaN</td>\n",
       "      <td>NaN</td>\n",
       "      <td>NaN</td>\n",
       "      <td>NaN</td>\n",
       "      <td>NaN</td>\n",
       "    </tr>\n",
       "  </tbody>\n",
       "</table>\n",
       "<p>5 rows × 43 columns</p>\n",
       "</div>"
      ],
      "text/plain": [
       "  Issuer Long Name  Country Issuer Short Name Country of Risk  \\\n",
       "0     LHV Group AS  ESTONIA         LHV Group         ESTONIA   \n",
       "1           OCP SA  MOROCCO               OCP         MOROCCO   \n",
       "2           OCP SA  MOROCCO               OCP         MOROCCO   \n",
       "3           OCP SA  MOROCCO               OCP         MOROCCO   \n",
       "4           OCP SA  MOROCCO               OCP         MOROCCO   \n",
       "\n",
       "                    LEI Moodys        Issue Type     Format Currency Size  \\\n",
       "0  529900JG015JC10LED24    Ba3            Tier 1       RegS        EUR50m   \n",
       "1  213800D26TAPVTCVWG40   Baa3  bmk /  snr unsec  RegS/144A       USD750m   \n",
       "2  213800D26TAPVTCVWG40   Baa3  bmk /  snr unsec  RegS/144A        USD1bn   \n",
       "3  213800D26TAPVTCVWG40   Baa3  bmk /  snr unsec  RegS/144A        USD1bn   \n",
       "4  213800D26TAPVTCVWG40   Baa3  bmk /  snr unsec  RegS/144A       USD750m   \n",
       "\n",
       "  Pricing Date  ... Make Whole Call Coc Call Guarantor   PP   XD Price  \\\n",
       "0   2025-04-24  ...             NaN      NaN       NaN  NaN  NaN   NaN   \n",
       "1   2025-04-23  ...             NaN      NaN       NaN  NaN  NaN   NaN   \n",
       "2   2025-04-23  ...             NaN      NaN       NaN  NaN  NaN   NaN   \n",
       "3   2025-04-23  ...             NaN      NaN       NaN  NaN  NaN   NaN   \n",
       "4   2025-04-23  ...             NaN      NaN       NaN  NaN  NaN   NaN   \n",
       "\n",
       "  Tap Size Equity Claw Back Links Fees  \n",
       "0      NaN              NaN   NaN  NaN  \n",
       "1      NaN              NaN   NaN  NaN  \n",
       "2      NaN              NaN   NaN  NaN  \n",
       "3      NaN              NaN   NaN  NaN  \n",
       "4      NaN              NaN   NaN  NaN  \n",
       "\n",
       "[5 rows x 43 columns]"
      ]
     },
     "execution_count": 9,
     "metadata": {},
     "output_type": "execute_result"
    }
   ],
   "source": [
    "from time import sleep\n",
    "\n",
    "result = []\n",
    "\n",
    "index = pd.DataFrame(headlines, columns=['storyId']).values.tolist()\n",
    "\n",
    "for i, storyId in enumerate(index):\n",
    "    story = ld.news.get_story(storyId[0])\n",
    "    x = termsheet_to_dict(story)\n",
    "    if x:\n",
    "        result.append(x)\n",
    "    sleep(0.5)\n",
    "\n",
    "df = pd.DataFrame(result)\n",
    "df.head()"
   ]
  },
  {
   "cell_type": "markdown",
   "metadata": {
    "deletable": true,
    "editable": true
   },
   "source": [
    "Now, when we have the dataframe in place, we can perform simple stats on our data. For instance:"
   ]
  },
  {
   "cell_type": "code",
   "execution_count": 10,
   "metadata": {
    "collapsed": false,
    "deletable": true,
    "editable": true,
    "jupyter": {
     "outputs_hidden": false
    }
   },
   "outputs": [
    {
     "data": {
      "text/plain": [
       "Issue Type\n",
       "bmk /  snr unsec            38\n",
       "bmk / snr unsec             12\n",
       "bmk                         11\n",
       " snr unsec                   9\n",
       "bmk /  snr unsec / sukuk     8\n",
       "bmk / Tier 2                 4\n",
       " snr unsec / sukuk           3\n",
       "Tier 1                       2\n",
       "hybrid / bmk                 2\n",
       "bmk / sukuk                  2\n",
       "bmk / Tier 1                 1\n",
       "bmk / snr sec                1\n",
       "covered                      1\n",
       "bmk / covered                1\n",
       "snr unsec                    1\n",
       "bmk / snr unsec / sukuk      1\n",
       "bmk / sukuk / Tier 1         1\n",
       "Name: count, dtype: int64"
      ]
     },
     "execution_count": 10,
     "metadata": {},
     "output_type": "execute_result"
    }
   ],
   "source": [
    "df['Issue Type'].value_counts()"
   ]
  },
  {
   "cell_type": "markdown",
   "metadata": {
    "deletable": true,
    "editable": true
   },
   "source": [
    "What about a specific country?"
   ]
  },
  {
   "cell_type": "code",
   "execution_count": 11,
   "metadata": {
    "collapsed": false,
    "deletable": true,
    "editable": true,
    "jupyter": {
     "outputs_hidden": false
    }
   },
   "outputs": [
    {
     "data": {
      "text/plain": [
       "Issue Type\n",
       "bmk /  snr unsec    6\n",
       "bmk                 4\n",
       " snr unsec          2\n",
       "Name: count, dtype: int64"
      ]
     },
     "execution_count": 11,
     "metadata": {},
     "output_type": "execute_result"
    }
   ],
   "source": [
    "df[df['Country']=='MOROCCO']['Issue Type'].value_counts()"
   ]
  },
  {
   "cell_type": "markdown",
   "metadata": {
    "deletable": true,
    "editable": true
   },
   "source": [
    "You can experiment further by changing the original headline search query, for example, by including the RIC into your request."
   ]
  }
 ],
 "metadata": {
  "kernelspec": {
   "display_name": "Python 3 (ipykernel)",
   "language": "python",
   "name": "python3"
  },
  "language_info": {
   "codemirror_mode": {
    "name": "ipython",
    "version": 3
   },
   "file_extension": ".py",
   "mimetype": "text/x-python",
   "name": "python",
   "nbconvert_exporter": "python",
   "pygments_lexer": "ipython3",
   "version": "3.12.8"
  }
 },
 "nbformat": 4,
 "nbformat_minor": 4
}

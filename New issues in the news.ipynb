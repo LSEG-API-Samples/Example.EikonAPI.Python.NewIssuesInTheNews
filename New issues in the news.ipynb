{
 "cells": [
  {
   "cell_type": "markdown",
   "metadata": {
    "deletable": true,
    "editable": true
   },
   "source": [
    "# New issues in the news"
   ]
  },
  {
   "cell_type": "markdown",
   "metadata": {
    "deletable": true,
    "editable": true
   },
   "source": [
    "First thing we need to do is to:\n",
    "\n",
    "+ reference the Thomson Reuters Eikon API; \n",
    "+ create an application ID for our script."
   ]
  },
  {
   "cell_type": "code",
   "execution_count": 1,
   "metadata": {
    "collapsed": true,
    "deletable": true,
    "editable": true
   },
   "outputs": [],
   "source": [
    "import eikon as tr\n",
    "import pandas as pd"
   ]
  },
  {
   "cell_type": "code",
   "execution_count": 2,
   "metadata": {
    "collapsed": true,
    "deletable": true,
    "editable": true
   },
   "outputs": [],
   "source": [
    "tr.set_app_id('your_app_id')"
   ]
  },
  {
   "cell_type": "markdown",
   "metadata": {
    "deletable": true,
    "editable": true
   },
   "source": [
    "We are going to request emerging market new issue (ISU) eurobond (EUB) news from International Financial Review Emerging EMEA service (IFREM), focusing on the notifications of the already priced issues."
   ]
  },
  {
   "cell_type": "code",
   "execution_count": 3,
   "metadata": {
    "collapsed": false,
    "deletable": true,
    "editable": true
   },
   "outputs": [
    {
     "data": {
      "text/html": [
       "<div>\n",
       "<table border=\"1\" class=\"dataframe\">\n",
       "  <thead>\n",
       "    <tr style=\"text-align: right;\">\n",
       "      <th></th>\n",
       "      <th>versionCreated</th>\n",
       "      <th>text</th>\n",
       "      <th>storyId</th>\n",
       "      <th>sourceCode</th>\n",
       "    </tr>\n",
       "  </thead>\n",
       "  <tbody>\n",
       "    <tr>\n",
       "      <th>2017-04-11 15:03:51</th>\n",
       "      <td>2017-04-11 15:04:33.786</td>\n",
       "      <td>PRICED: X5 RUB20bn 3yr at 9.25%; Leads</td>\n",
       "      <td>urn:newsml:reuters.com:20170411:nIFR3Wb3bN:1</td>\n",
       "      <td>NS:IFR</td>\n",
       "    </tr>\n",
       "    <tr>\n",
       "      <th>2017-04-10 20:43:18</th>\n",
       "      <td>2017-04-10 20:48:04.320</td>\n",
       "      <td>PRICED: Romania E1.75bn 2-tranche deal</td>\n",
       "      <td>urn:newsml:reuters.com:20170410:nIFRS9KcK:1</td>\n",
       "      <td>NS:IFR</td>\n",
       "    </tr>\n",
       "    <tr>\n",
       "      <th>2017-04-07 10:07:04</th>\n",
       "      <td>2017-04-07 11:29:59.276</td>\n",
       "      <td>DEAL: AFC prices USD500m 3.875% Apr 2024 7yr a...</td>\n",
       "      <td>urn:newsml:reuters.com:20170407:nIFR2Rv27f:1</td>\n",
       "      <td>NS:IFR</td>\n",
       "    </tr>\n",
       "    <tr>\n",
       "      <th>2017-04-06 07:54:01</th>\n",
       "      <td>2017-04-06 07:54:02.810</td>\n",
       "      <td>UPDATE: IsDB deal statistics</td>\n",
       "      <td>urn:newsml:reuters.com:20170406:nIFR8fGynv:1</td>\n",
       "      <td>NS:IFR</td>\n",
       "    </tr>\n",
       "    <tr>\n",
       "      <th>2017-04-05 21:10:09</th>\n",
       "      <td>2017-04-05 22:59:40.538</td>\n",
       "      <td>PRICED: Petra Diamonds US$650m 5-year nc2 sr s...</td>\n",
       "      <td>urn:newsml:reuters.com:20170405:nIFR5LpzRX:1</td>\n",
       "      <td>NS:IFR</td>\n",
       "    </tr>\n",
       "  </tbody>\n",
       "</table>\n",
       "</div>"
      ],
      "text/plain": [
       "                             versionCreated  \\\n",
       "2017-04-11 15:03:51 2017-04-11 15:04:33.786   \n",
       "2017-04-10 20:43:18 2017-04-10 20:48:04.320   \n",
       "2017-04-07 10:07:04 2017-04-07 11:29:59.276   \n",
       "2017-04-06 07:54:01 2017-04-06 07:54:02.810   \n",
       "2017-04-05 21:10:09 2017-04-05 22:59:40.538   \n",
       "\n",
       "                                                                  text  \\\n",
       "2017-04-11 15:03:51             PRICED: X5 RUB20bn 3yr at 9.25%; Leads   \n",
       "2017-04-10 20:43:18             PRICED: Romania E1.75bn 2-tranche deal   \n",
       "2017-04-07 10:07:04  DEAL: AFC prices USD500m 3.875% Apr 2024 7yr a...   \n",
       "2017-04-06 07:54:01                       UPDATE: IsDB deal statistics   \n",
       "2017-04-05 21:10:09  PRICED: Petra Diamonds US$650m 5-year nc2 sr s...   \n",
       "\n",
       "                                                          storyId sourceCode  \n",
       "2017-04-11 15:03:51  urn:newsml:reuters.com:20170411:nIFR3Wb3bN:1     NS:IFR  \n",
       "2017-04-10 20:43:18   urn:newsml:reuters.com:20170410:nIFRS9KcK:1     NS:IFR  \n",
       "2017-04-07 10:07:04  urn:newsml:reuters.com:20170407:nIFR2Rv27f:1     NS:IFR  \n",
       "2017-04-06 07:54:01  urn:newsml:reuters.com:20170406:nIFR8fGynv:1     NS:IFR  \n",
       "2017-04-05 21:10:09  urn:newsml:reuters.com:20170405:nIFR5LpzRX:1     NS:IFR  "
      ]
     },
     "execution_count": 3,
     "metadata": {},
     "output_type": "execute_result"
    }
   ],
   "source": [
    "from datetime import date\n",
    "\n",
    "start_date, end_date = date(2016, 1, 1), date.today()\n",
    "q = \"Product:IFREM AND Topic:ISU AND Topic:EUB AND (\\\"PRICED\\\" OR \\\"DEAL\\\")\"\n",
    "headlines = tr.get_news_headlines(query=q, date_from=start_date, date_to=end_date, count=100)\n",
    "headlines.head()"
   ]
  },
  {
   "cell_type": "markdown",
   "metadata": {
    "deletable": true,
    "editable": true
   },
   "source": [
    "In the context of news, each story has its own unique idenifier, created according to the RFC 3085 standard. Here's what the story looks like, notice that I am using the standard HTML() function from Notebook to display it:"
   ]
  },
  {
   "cell_type": "code",
   "execution_count": 4,
   "metadata": {
    "collapsed": false,
    "deletable": true,
    "editable": true
   },
   "outputs": [
    {
     "data": {
      "text/html": [
       "<div class=\"storyContent\"><pre>[Status]: PRICED                       [Asset Type]: High Yield\r\n",
       "[Pricing Date]: 05-Apr-17              [Issuer/Borrower Type]: Corporate\r\n",
       "[Issuer]: Petra Diamonds               [Bookrunners]: Barc/RBC/BMO\r\n",
       "[Issuer Long Name]: PETRA DIAMONDS US  [Coupon]: 7.250 Fixed\r\n",
       "TREASURY PLC                           [Price]: 99.9930\r\n",
       "[Size]: USD 650M                       [Reoffer Price]: 99.9930\r\n",
       "[Ratings]: B2/B+                       [Yield]: 7.25\r\n",
       "[Tenor/Mty]: 5yr 01-May-22             [Spread]: T+540.1bp\r\n",
       "[Issue Type]: Sr Sec Notes             [Price Guidance]: 7.5% area\r\n",
       "[<a href=\"reuters://REALTIME/verb=Headlines/ric=CUSIP/ISIN\" data-type=\"newsExpression\" data-expression=\"CUSIP/ISIN\">CUSIP/ISIN</a>]: USG7028AAB91 /           [Listed]: Irish\r\n",
       "US71642QAB32                           [Denoms]: 200k/1k\r\n",
       "[Sector]: Materials-Mining             [<a href=\"reuters://REALTIME/verb=Headlines/ric=UOP\" data-type=\"newsExpression\" data-expression=\"UOP\">UOP</a>]: Mixed\r\n",
       "[Law]: NY                              [Fees]: Undisclosed\r\n",
       "[Country]: UNITED STATES               [Format]: 144A/RegS for life\r\n",
       "[Region]: US\r\n",
       "[Settledate]: 12-Apr-17\r\n",
       "[<a href=\"reuters://REALTIME/verb=Headlines/ric=NOTES\" data-type=\"newsExpression\" data-expression=\"NOTES\">NOTES</a>]: USD600m 5NC2 snr sec second lien. RegS/144a. B2/B+. GloCos\r\n",
       "Barc(B&amp;D)/RBC. JBs BMO. IPTs 7.5% area, guidance 7.375% area (+/-0.125%).</pre></div>"
      ],
      "text/plain": [
       "<IPython.core.display.HTML object>"
      ]
     },
     "execution_count": 4,
     "metadata": {},
     "output_type": "execute_result"
    }
   ],
   "source": [
    "from IPython.core.display import HTML\n",
    "html = tr.get_news_story('urn:newsml:reuters.com:20170405:nIFR5LpzRX:1')\n",
    "HTML(html)"
   ]
  },
  {
   "cell_type": "markdown",
   "metadata": {
    "deletable": true,
    "editable": true
   },
   "source": [
    "We can parse the data using a regular expression, but before this we will need to convert HTML into text. Let's create a function that is going to return a dictionary from the this type of article:"
   ]
  },
  {
   "cell_type": "code",
   "execution_count": 5,
   "metadata": {
    "collapsed": false,
    "deletable": true,
    "editable": true
   },
   "outputs": [],
   "source": [
    "from lxml import html\n",
    "import re\n",
    "\n",
    "def termsheet_to_dict(storyId):\n",
    "    x = tr.get_news_story(storyId)\n",
    "    story = html.document_fromstring(x).text_content()\n",
    "    matches = dict(re.findall(pattern=r\"\\[(.*?)\\]:\\s?([A-Z,a-z,0-9,\\-,\\(,\\),\\+,/,\\n,\\r,\\.,%,\\&,>, ]+)\", string=story))\n",
    "    clean_matches = {key.strip(): item.strip() for key, item in matches.items()}\n",
    "    return clean_matches"
   ]
  },
  {
   "cell_type": "markdown",
   "metadata": {
    "deletable": true,
    "editable": true
   },
   "source": [
    "Let's test it and see if it works:"
   ]
  },
  {
   "cell_type": "code",
   "execution_count": 6,
   "metadata": {
    "collapsed": false,
    "deletable": true,
    "editable": true
   },
   "outputs": [
    {
     "data": {
      "text/plain": [
       "'EUR400m (from 300m+) 3yr LPN. RegS. Follows rshow. Exp nr/B+/BB.\\r\\nAlfa/ING/UBS(B&D). IPTs 2.75% area, guidance 2.625%/2.75% WPIR, set at 2.625% on\\r\\nbks closed >750m.'"
      ]
     },
     "execution_count": 6,
     "metadata": {},
     "output_type": "execute_result"
    }
   ],
   "source": [
    "termsheet_to_dict('urn:newsml:reuters.com:20170323:nIFR9z7ZFL:1')['NOTES']"
   ]
  },
  {
   "cell_type": "markdown",
   "metadata": {
    "deletable": true,
    "editable": true
   },
   "source": [
    "Let's extract all data for all headlines:"
   ]
  },
  {
   "cell_type": "code",
   "execution_count": 7,
   "metadata": {
    "collapsed": false,
    "deletable": true,
    "editable": true,
    "scrolled": true
   },
   "outputs": [
    {
     "data": {
      "text/html": [
       "<div>\n",
       "<table border=\"1\" class=\"dataframe\">\n",
       "  <thead>\n",
       "    <tr style=\"text-align: right;\">\n",
       "      <th></th>\n",
       "      <th>1st Pay</th>\n",
       "      <th>Asset Type</th>\n",
       "      <th>Bookrunners</th>\n",
       "      <th>Business</th>\n",
       "      <th>CUSIP/ISIN</th>\n",
       "      <th>Call</th>\n",
       "      <th>Country</th>\n",
       "      <th>Coupon</th>\n",
       "      <th>DBRS</th>\n",
       "      <th>Denoms</th>\n",
       "      <th>...</th>\n",
       "      <th>Sector</th>\n",
       "      <th>Settledate</th>\n",
       "      <th>Size</th>\n",
       "      <th>Spread</th>\n",
       "      <th>Stabilis</th>\n",
       "      <th>Status</th>\n",
       "      <th>Tenor/Mty</th>\n",
       "      <th>Total</th>\n",
       "      <th>UOP</th>\n",
       "      <th>Yield</th>\n",
       "    </tr>\n",
       "  </thead>\n",
       "  <tbody>\n",
       "    <tr>\n",
       "      <th>0</th>\n",
       "      <td>NaN</td>\n",
       "      <td>High Yield</td>\n",
       "      <td>GS/UBS/VTB</td>\n",
       "      <td>NaN</td>\n",
       "      <td>XS1598697412             Trade House PEREKRIOS...</td>\n",
       "      <td>NaN</td>\n",
       "      <td>RUSSIA</td>\n",
       "      <td>9.250 Fixed</td>\n",
       "      <td>NaN</td>\n",
       "      <td>10m/100k</td>\n",
       "      <td>...</td>\n",
       "      <td>Cons Staples-Retailing       Limited Liability...</td>\n",
       "      <td>18-Apr-17</td>\n",
       "      <td>RUB 20BN</td>\n",
       "      <td>NaN</td>\n",
       "      <td>NaN</td>\n",
       "      <td>PRICED</td>\n",
       "      <td>3yr 18-Apr-20</td>\n",
       "      <td>NaN</td>\n",
       "      <td>NaN</td>\n",
       "      <td>9.25</td>\n",
       "    </tr>\n",
       "    <tr>\n",
       "      <th>1</th>\n",
       "      <td>NaN</td>\n",
       "      <td>Investment Grade</td>\n",
       "      <td>Barc/Citi/Erste/ING/SG</td>\n",
       "      <td>NaN</td>\n",
       "      <td>XS1313004928 /</td>\n",
       "      <td>NaN</td>\n",
       "      <td>ROMANIA</td>\n",
       "      <td>3.875</td>\n",
       "      <td>NaN</td>\n",
       "      <td>1k+1k</td>\n",
       "      <td>...</td>\n",
       "      <td>NaN</td>\n",
       "      <td>19-Apr-17</td>\n",
       "      <td>EUR 750M</td>\n",
       "      <td>NaN</td>\n",
       "      <td>NaN</td>\n",
       "      <td>PRICED</td>\n",
       "      <td>18.5yr 29-Oct-35</td>\n",
       "      <td>2BN</td>\n",
       "      <td>NaN</td>\n",
       "      <td>3.55\\r\\nSr Unsec Notes</td>\n",
       "    </tr>\n",
       "    <tr>\n",
       "      <th>2</th>\n",
       "      <td>NaN</td>\n",
       "      <td>Investment Grade</td>\n",
       "      <td>Citi/JPM/MUFG/StCh</td>\n",
       "      <td>NaN</td>\n",
       "      <td>144A US00830YAB74 / RegS</td>\n",
       "      <td>NaN</td>\n",
       "      <td>Supranational</td>\n",
       "      <td>3.875 Fixed</td>\n",
       "      <td>NaN</td>\n",
       "      <td>NaN</td>\n",
       "      <td>...</td>\n",
       "      <td>NaN</td>\n",
       "      <td>13-Apr-17</td>\n",
       "      <td>USD 500M</td>\n",
       "      <td>MS+184.3</td>\n",
       "      <td>NaN</td>\n",
       "      <td>PRICED</td>\n",
       "      <td>7yr 13-Apr-24</td>\n",
       "      <td>NaN</td>\n",
       "      <td>NaN</td>\n",
       "      <td>4\\r\\nSr Unsec Notes</td>\n",
       "    </tr>\n",
       "    <tr>\n",
       "      <th>3</th>\n",
       "      <td>NaN</td>\n",
       "      <td>High Yield</td>\n",
       "      <td>Barc/RBC/BMO</td>\n",
       "      <td>NaN</td>\n",
       "      <td>USG7028AAB91 /</td>\n",
       "      <td>NaN</td>\n",
       "      <td>UNITED STATES</td>\n",
       "      <td>7.250 Fixed\\r\\nTREASURY PLC</td>\n",
       "      <td>NaN</td>\n",
       "      <td>200k/1k</td>\n",
       "      <td>...</td>\n",
       "      <td>Materials-Mining</td>\n",
       "      <td>12-Apr-17</td>\n",
       "      <td>USD 650M</td>\n",
       "      <td>T+540.1bp</td>\n",
       "      <td>NaN</td>\n",
       "      <td>PRICED</td>\n",
       "      <td>5yr 01-May-22</td>\n",
       "      <td>NaN</td>\n",
       "      <td>Mixed</td>\n",
       "      <td>7.25</td>\n",
       "    </tr>\n",
       "    <tr>\n",
       "      <th>4</th>\n",
       "      <td>NaN</td>\n",
       "      <td>Islamic</td>\n",
       "      <td></td>\n",
       "      <td>NaN</td>\n",
       "      <td>XS1597014767</td>\n",
       "      <td>NaN</td>\n",
       "      <td>SAUDI ARABIA</td>\n",
       "      <td>6.875 Fixed</td>\n",
       "      <td>NaN</td>\n",
       "      <td>200k/1k</td>\n",
       "      <td>...</td>\n",
       "      <td>Financials-Real Estate</td>\n",
       "      <td>10-Apr-17</td>\n",
       "      <td>USD 500M</td>\n",
       "      <td>MS+512.8</td>\n",
       "      <td>NaN</td>\n",
       "      <td>PRICED</td>\n",
       "      <td>5yr 10-Apr-22</td>\n",
       "      <td>NaN</td>\n",
       "      <td>Refinance</td>\n",
       "      <td>7.125</td>\n",
       "    </tr>\n",
       "  </tbody>\n",
       "</table>\n",
       "<p>5 rows × 42 columns</p>\n",
       "</div>"
      ],
      "text/plain": [
       "  1st Pay        Asset Type             Bookrunners Business  \\\n",
       "0     NaN        High Yield              GS/UBS/VTB      NaN   \n",
       "1     NaN  Investment Grade  Barc/Citi/Erste/ING/SG      NaN   \n",
       "2     NaN  Investment Grade      Citi/JPM/MUFG/StCh      NaN   \n",
       "3     NaN        High Yield            Barc/RBC/BMO      NaN   \n",
       "4     NaN           Islamic                              NaN   \n",
       "\n",
       "                                          CUSIP/ISIN Call        Country  \\\n",
       "0  XS1598697412             Trade House PEREKRIOS...  NaN         RUSSIA   \n",
       "1                                     XS1313004928 /  NaN        ROMANIA   \n",
       "2                           144A US00830YAB74 / RegS  NaN  Supranational   \n",
       "3                                     USG7028AAB91 /  NaN  UNITED STATES   \n",
       "4                                       XS1597014767  NaN   SAUDI ARABIA   \n",
       "\n",
       "                        Coupon DBRS    Denoms           ...            \\\n",
       "0                  9.250 Fixed  NaN  10m/100k           ...             \n",
       "1                        3.875  NaN     1k+1k           ...             \n",
       "2                  3.875 Fixed  NaN       NaN           ...             \n",
       "3  7.250 Fixed\\r\\nTREASURY PLC  NaN   200k/1k           ...             \n",
       "4                  6.875 Fixed  NaN   200k/1k           ...             \n",
       "\n",
       "                                              Sector Settledate      Size  \\\n",
       "0  Cons Staples-Retailing       Limited Liability...  18-Apr-17  RUB 20BN   \n",
       "1                                                NaN  19-Apr-17  EUR 750M   \n",
       "2                                                NaN  13-Apr-17  USD 500M   \n",
       "3                                   Materials-Mining  12-Apr-17  USD 650M   \n",
       "4                             Financials-Real Estate  10-Apr-17  USD 500M   \n",
       "\n",
       "      Spread Stabilis  Status         Tenor/Mty Total        UOP  \\\n",
       "0        NaN      NaN  PRICED     3yr 18-Apr-20   NaN        NaN   \n",
       "1        NaN      NaN  PRICED  18.5yr 29-Oct-35   2BN        NaN   \n",
       "2   MS+184.3      NaN  PRICED     7yr 13-Apr-24   NaN        NaN   \n",
       "3  T+540.1bp      NaN  PRICED     5yr 01-May-22   NaN      Mixed   \n",
       "4   MS+512.8      NaN  PRICED     5yr 10-Apr-22   NaN  Refinance   \n",
       "\n",
       "                    Yield  \n",
       "0                    9.25  \n",
       "1  3.55\\r\\nSr Unsec Notes  \n",
       "2     4\\r\\nSr Unsec Notes  \n",
       "3                    7.25  \n",
       "4                   7.125  \n",
       "\n",
       "[5 rows x 42 columns]"
      ]
     },
     "execution_count": 7,
     "metadata": {},
     "output_type": "execute_result"
    }
   ],
   "source": [
    "result = []\n",
    "\n",
    "index = pd.DataFrame(headlines, columns=['storyId']).values.tolist()\n",
    "\n",
    "for i, storyId in enumerate(index):\n",
    "    x = termsheet_to_dict(storyId[0])\n",
    "    if x:\n",
    "        result.append(x)\n",
    "\n",
    "df = pd.DataFrame(result)\n",
    "df.head()"
   ]
  },
  {
   "cell_type": "markdown",
   "metadata": {
    "deletable": true,
    "editable": true
   },
   "source": [
    "Now, when we have the dataframe in place, we can perform simple stats on our data. For instance, how many of those issues reported were Investment Grade versus High Yield."
   ]
  },
  {
   "cell_type": "code",
   "execution_count": 8,
   "metadata": {
    "collapsed": false,
    "deletable": true,
    "editable": true
   },
   "outputs": [
    {
     "data": {
      "text/plain": [
       "Investment Grade    50\n",
       "High Yield          23\n",
       "Islamic              8\n",
       "Covered              2\n",
       "Name: Asset Type, dtype: int64"
      ]
     },
     "execution_count": 8,
     "metadata": {},
     "output_type": "execute_result"
    }
   ],
   "source": [
    "df['Asset Type'].value_counts()"
   ]
  },
  {
   "cell_type": "markdown",
   "metadata": {
    "deletable": true,
    "editable": true
   },
   "source": [
    "What about a specific country?"
   ]
  },
  {
   "cell_type": "code",
   "execution_count": 9,
   "metadata": {
    "collapsed": false,
    "deletable": true,
    "editable": true
   },
   "outputs": [
    {
     "data": {
      "text/plain": [
       "Investment Grade    7\n",
       "High Yield          6\n",
       "Name: Asset Type, dtype: int64"
      ]
     },
     "execution_count": 9,
     "metadata": {},
     "output_type": "execute_result"
    }
   ],
   "source": [
    "df[df['Country']=='RUSSIA']['Asset Type'].value_counts()"
   ]
  },
  {
   "cell_type": "markdown",
   "metadata": {
    "deletable": true,
    "editable": true
   },
   "source": [
    "You can experiment further by changing the original headline search query, for example, by including the RIC into your request."
   ]
  },
  {
   "cell_type": "code",
   "execution_count": null,
   "metadata": {
    "collapsed": true
   },
   "outputs": [],
   "source": []
  }
 ],
 "metadata": {
  "kernelspec": {
   "display_name": "Python 3",
   "language": "python",
   "name": "python3"
  },
  "language_info": {
   "codemirror_mode": {
    "name": "ipython",
    "version": 3
   },
   "file_extension": ".py",
   "mimetype": "text/x-python",
   "name": "python",
   "nbconvert_exporter": "python",
   "pygments_lexer": "ipython3",
   "version": "3.6.1"
  }
 },
 "nbformat": 4,
 "nbformat_minor": 2
}
